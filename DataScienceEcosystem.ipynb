{
  "nbformat": 4,
  "nbformat_minor": 0,
  "metadata": {
    "colab": {
      "provenance": [],
      "toc_visible": true
    },
    "kernelspec": {
      "name": "python3",
      "display_name": "Python 3"
    },
    "language_info": {
      "name": "python"
    }
  },
  "cells": [
    {
      "cell_type": "markdown",
      "source": [
        "#Data Science Tools and Ecosystem"
      ],
      "metadata": {
        "id": "kXI-yyMza9cY"
      }
    },
    {
      "cell_type": "markdown",
      "source": [
        "##Author\n",
        "Aliz Fazekas"
      ],
      "metadata": {
        "id": "Ust69bmSs5K3"
      }
    },
    {
      "cell_type": "markdown",
      "source": [
        "In this notebook, Data Science Tools and Ecosystem are summarized."
      ],
      "metadata": {
        "id": "dXU4FI2Rk6oD"
      }
    },
    {
      "cell_type": "markdown",
      "source": [
        "**Objectives:**\n",
        "\n",
        "*   List popular languages for Data Science\n",
        "*   List commonly used libraries used by Data Scientists\n",
        "*   List Open Sources Data Science Tools\n"
      ],
      "metadata": {
        "id": "GTw18EL3sCaQ"
      }
    },
    {
      "cell_type": "markdown",
      "source": [
        "Some of the popular languages that Data Scientists use are:\n",
        "\n",
        "\n",
        "1.   Python\n",
        "2.   R\n",
        "3.   SQL\n",
        "4.   Scala\n",
        "5.   Java\n",
        "6.   C++\n",
        "7.   JavaScript\n",
        "8.   Julia\n",
        "\n"
      ],
      "metadata": {
        "id": "JfrQpuWSlWmO"
      }
    },
    {
      "cell_type": "markdown",
      "source": [
        "Some of the commonly used libraries used by Data Scientists include:\n",
        "\n",
        "\n",
        "\n",
        "1.   NumPy\n",
        "2.   Pandas\n",
        "3.   SciPy\n",
        "4.   Matplotlib\n",
        "5.   Seaborn\n",
        "\n"
      ],
      "metadata": {
        "id": "NDzCCXFpnRbu"
      }
    },
    {
      "cell_type": "markdown",
      "source": [
        "|Data Science Tools|\n",
        "|:-----:|\n",
        "|Jupyter Notebook|\n",
        "|RStudio|\n",
        "|Jupiter Lab|\n",
        "\n",
        "\n",
        "\n"
      ],
      "metadata": {
        "id": "3FLSswVYojXi"
      }
    },
    {
      "cell_type": "markdown",
      "source": [
        "###Below are a few examples of evaluating arithmetic expressions in Python"
      ],
      "metadata": {
        "id": "nxkGzoObq8Ul"
      }
    },
    {
      "cell_type": "code",
      "source": [
        "# This a simple arithmetic expression to mutiply then add integers\n",
        "(3*4)+5"
      ],
      "metadata": {
        "colab": {
          "base_uri": "https://localhost:8080/"
        },
        "id": "TW_PgJO3rNma",
        "outputId": "97daf844-58a9-41cf-d3b5-bc9164817eaf"
      },
      "execution_count": 1,
      "outputs": [
        {
          "output_type": "execute_result",
          "data": {
            "text/plain": [
              "17"
            ]
          },
          "metadata": {},
          "execution_count": 1
        }
      ]
    },
    {
      "cell_type": "code",
      "source": [
        "# This will convert 200 minutes to hours by diving by 60\n",
        "200/60"
      ],
      "metadata": {
        "colab": {
          "base_uri": "https://localhost:8080/"
        },
        "id": "_Hu1arVWrWED",
        "outputId": "3302625a-2956-49cc-cba6-17eefce12898"
      },
      "execution_count": 2,
      "outputs": [
        {
          "output_type": "execute_result",
          "data": {
            "text/plain": [
              "3.3333333333333335"
            ]
          },
          "metadata": {},
          "execution_count": 2
        }
      ]
    }
  ]
}